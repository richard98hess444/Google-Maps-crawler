{
 "cells": [
  {
   "cell_type": "code",
   "execution_count": 2,
   "metadata": {},
   "outputs": [],
   "source": [
    "import codecs\n",
    "f = codecs.open(\"20210408_2.txt\", 'r', 'utf-8')\n",
    "location = f.read()\n",
    "f.close()"
   ]
  },
  {
   "cell_type": "code",
   "execution_count": 3,
   "metadata": {},
   "outputs": [],
   "source": [
    "import webbrowser\n",
    "places = tuple(location.split('\\n'))\n",
    "URL = []\n",
    "for i in places:\n",
    "    URL.append(\"https://www.google.com/maps/place?q=\" + i)\n",
    "#for i in URL:\n",
    "#    print(i + \"\\n\")\n",
    "#webbrowser.open(URL[4])\n",
    "#check if the the url works"
   ]
  },
  {
   "cell_type": "code",
   "execution_count": 4,
   "metadata": {},
   "outputs": [],
   "source": [
    "from openpyxl import Workbook \n",
    "\n",
    "wb = Workbook()\n",
    "ws = wb.active\n",
    "ws['A1'] = 'longitude'\n",
    "ws['B1'] = 'latitude'"
   ]
  },
  {
   "cell_type": "code",
   "execution_count": 5,
   "metadata": {},
   "outputs": [],
   "source": [
    "import random\n",
    "import time"
   ]
  },
  {
   "cell_type": "code",
   "execution_count": 6,
   "metadata": {},
   "outputs": [],
   "source": [
    "def STR_to_NUM(data):\n",
    "    line = tuple(data.split(','))\n",
    "    num1 = float(line[1])\n",
    "    num2 = float(line[2])\n",
    "    line = [num1, num2]\n",
    "    return line"
   ]
  },
  {
   "cell_type": "code",
   "execution_count": 7,
   "metadata": {
    "scrolled": false
   },
   "outputs": [],
   "source": [
    "def coordination(url, array):\n",
    "    response = requests.get(url)\n",
    "    soup = BeautifulSoup(response.text, \"html.parser\")\n",
    "    text = soup.prettify() #text has the whole html content\n",
    "    initial_pos = text.find(\";window.APP_INITIALIZATION_STATE\")\n",
    "    data = text[initial_pos+36:initial_pos+82]\n",
    "    aaa = STR_to_NUM(data)\n",
    "    ws.append(aaa)\n",
    "    #print(aaa)"
   ]
  },
  {
   "cell_type": "code",
   "execution_count": 9,
   "metadata": {},
   "outputs": [],
   "source": [
    "import requests\n",
    "from bs4 import BeautifulSoup"
   ]
  },
  {
   "cell_type": "code",
   "execution_count": 10,
   "metadata": {
    "scrolled": false
   },
   "outputs": [],
   "source": [
    "DATA = []\n",
    "\n",
    "for i in URL:\n",
    "    coordination(i, DATA)\n",
    "    wb.save('20210408_2.xlsx')\n",
    "    #delay = random.randint(1, 10)\n",
    "    #time.sleep(delay)\n"
   ]
  },
  {
   "cell_type": "code",
   "execution_count": null,
   "metadata": {},
   "outputs": [],
   "source": []
  }
 ],
 "metadata": {
  "kernelspec": {
   "display_name": "Python 3",
   "language": "python",
   "name": "python3"
  },
  "language_info": {
   "codemirror_mode": {
    "name": "ipython",
    "version": 3
   },
   "file_extension": ".py",
   "mimetype": "text/x-python",
   "name": "python",
   "nbconvert_exporter": "python",
   "pygments_lexer": "ipython3",
   "version": "3.7.6"
  }
 },
 "nbformat": 4,
 "nbformat_minor": 4
}
